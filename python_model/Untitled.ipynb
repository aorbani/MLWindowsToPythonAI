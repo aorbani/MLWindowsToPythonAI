{
 "cells": [
  {
   "cell_type": "code",
   "execution_count": 46,
   "id": "21699ab4",
   "metadata": {},
   "outputs": [
    {
     "name": "stdout",
     "output_type": "stream",
     "text": [
      "Testing Keras model from Windows Forms application\n"
     ]
    }
   ],
   "source": [
    "import pandas as pd\n",
    "from keras.models import model_from_json\n",
    "from pickle import load\n",
    "import json\n",
    "import datetime\n",
    "import sys\n",
    "import os\n",
    "\n",
    "class LoanModel:\n",
    "    def __init__(self):\n",
    "        self.__model = None\n",
    "        self.__dirpath = 'C:\\\\Users\\\\92292\\\\source\\\\repos\\\\MLTestWindowsToPythonAI\\\\'\n",
    "        with open(self.__dirpath + 'python_model\\\\model.json', 'r') as json_file:\n",
    "            loaded_model_json = json_file.read()\n",
    "            self.__model = model_from_json(loaded_model_json)\n",
    "            self.__model.load_weights(self.__dirpath + 'python_model\\\\model.h5')\n",
    "            self.__model.compile(optimizer ='adam',loss='binary_crossentropy', metrics =['accuracy'])\n",
    "        \n",
    "        self.__scaler = load(open(self.__dirpath + 'python_model\\\\scaler.pkl', 'rb'))\n",
    "        self.__grade_encoder = load(open(self.__dirpath + 'python_model\\\\grade_encoder.pkl', 'rb'))\n",
    "        self.__ownership_encoder = load(open(self.__dirpath + 'python_model\\\\ownership_encoder.pkl', 'rb'))\n",
    "        self.__purpose_encoder = load(open(self.__dirpath + 'python_model\\\\purpose_encoder.pkl', 'rb'))\n",
    "\n",
    "    def predict_this(self, json_arguments):\n",
    "        de_serialized_args = json.loads(json_arguments)\n",
    "        print(json_arguments['dir_path'])\n",
    "        old_stdout = sys.stdout # backup current stdout\n",
    "        sys.stdout = open(os.devnull, \"w\")\n",
    "        \n",
    "        pd_input = self.get_input_params( de_serialized_args['model_input'] )\n",
    "        \n",
    "        prediction = self.__model.predict(pd_input)\n",
    "        result = \"GRANTED\" if prediction[0][0] > 0.8 else \"REJECTED\"\n",
    "        return_obj = {\n",
    "            \"prediction\" : result,\n",
    "            \"timestamp\" : str(datetime.datetime.now())\n",
    "        }\n",
    "        sys.stdout = old_stdout\n",
    "        return json.dumps(return_obj)\n",
    "        \n",
    "    def get_input_params(self, input_obj):\n",
    "        \n",
    "        grade = pd.Series(input_obj['grade'])\n",
    "        home_ownership = pd.Series(input_obj['home_ownership'])\n",
    "        purpose = pd.Series(input_obj['purpose'])\n",
    "    \n",
    "        pd_input = pd.DataFrame({\n",
    "            'loan_amnt': [ input_obj['loan_amnt'] ],\n",
    "            'int_rate': [ input_obj['int_rate'] ],\n",
    "            'installment': [ input_obj['installment'] ],\n",
    "            'grade': [ self.__grade_encoder.transform( grade ) ],\n",
    "            'emp_length': [ input_obj['emp_length'] ],\n",
    "            'home_ownership': [ self.__ownership_encoder.transform( home_ownership ) ],\n",
    "            'annual_inc': [ input_obj['annual_inc'] ],\n",
    "            'purpose': [ self.__purpose_encoder.transform( purpose ) ],\n",
    "            'inq_last_12m': [ input_obj['inq_last_12m'] ],\n",
    "            'delinq_2yrs': [ input_obj['delinq_2yrs'] ]\n",
    "        })\n",
    "        self.__scaler.clip = False\n",
    "        pd_input = self.__scaler.transform( pd_input )\n",
    "        return pd_input\n",
    "        \n",
    "if ( __name__ == '__main__' ):\n",
    "    print(\"Testing Keras model from Windows Forms application\")\n",
    "    "
   ]
  },
  {
   "cell_type": "code",
   "execution_count": 48,
   "id": "616026e4",
   "metadata": {},
   "outputs": [
    {
     "ename": "SyntaxError",
     "evalue": "unexpected character after line continuation character (1271429560.py, line 3)",
     "output_type": "error",
     "traceback": [
      "\u001b[1;36m  Cell \u001b[1;32mIn[48], line 3\u001b[1;36m\u001b[0m\n\u001b[1;33m    test.predict_this(\"{\"\\\"caller\\\"\":\"\\\"MLTestWindowsToPythonAI\\\"\",\"\\\"date\\\"\":\"\\\"2023-10-05T09:39:49.3874896+03:00\\\"\",\"\\\"model_input\\\"\":\"{\\\"loan_amnt\\\":0,\\\"int_rate\\\":0.0,\\\"installment\\\":0.0,\\\"grade\\\":\\\"A\\\",\\\"emp_length\\\":0,\\\"home_ownership\\\":\\\"MORTGAGE\\\",\\\"annual_inc\\\":0,\\\"purpose\\\":\\\"house\\\",\\\"inq_last_12m\\\":0,\\\"delinq_2yrs\\\":0,\\\"dir_path\\\":\\\"C:\\\\\\\\Users\\\\\\\\92292\\\\\\\\source\\\\\\\\repos\\\\\\\\MLTestWindowsToPythonAI\\\\\\\\\\\"}\"}\")\u001b[0m\n\u001b[1;37m                          ^\u001b[0m\n\u001b[1;31mSyntaxError\u001b[0m\u001b[1;31m:\u001b[0m unexpected character after line continuation character\n"
     ]
    }
   ],
   "source": [
    "test = LoanModel()\n",
    "#json.dumps({\"caller\":\"MLTestWindowsToPythonAI\",\"date\":\"2023-10-04T15:04:53.351894+03:00\",\"model_input\":{\"loan_amnt\":0,\"int_rate\":0.0,\"installment\":0.0,\"grade\":\"A\",\"emp_length\":0,\"home_ownership\":\"MORTGAGE\",\"annual_inc\":0,\"purpose\":\"house\",\"inq_last_12m\":0,\"delinq_2yrs\":0}})\n",
    "test.predict_this({\"date\": \"2023-10-05T08:54:37.2704992+03:00\", \"model_input\": {}})\n"
   ]
  },
  {
   "cell_type": "code",
   "execution_count": null,
   "id": "ee9d4e61",
   "metadata": {},
   "outputs": [],
   "source": []
  }
 ],
 "metadata": {
  "kernelspec": {
   "display_name": "Python 3 (ipykernel)",
   "language": "python",
   "name": "python3"
  },
  "language_info": {
   "codemirror_mode": {
    "name": "ipython",
    "version": 3
   },
   "file_extension": ".py",
   "mimetype": "text/x-python",
   "name": "python",
   "nbconvert_exporter": "python",
   "pygments_lexer": "ipython3",
   "version": "3.11.4"
  }
 },
 "nbformat": 4,
 "nbformat_minor": 5
}
